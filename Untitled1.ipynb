{
 "cells": [
  {
   "cell_type": "code",
   "execution_count": 1,
   "metadata": {},
   "outputs": [],
   "source": [
    "import pandas as pd\n",
    "import numpy as np\n",
    "%matplotlib inline\n",
    "import matplotlib.pyplot as plt\n",
    "import seaborn as sns\n",
    "import datetime as dt\n",
    "pd.set_option('display.max_columns', 50)"
   ]
  },
  {
   "cell_type": "code",
   "execution_count": 2,
   "metadata": {},
   "outputs": [
    {
     "name": "stderr",
     "output_type": "stream",
     "text": [
      "C:\\ProgramData\\Anaconda3\\lib\\site-packages\\sklearn\\externals\\joblib\\__init__.py:15: DeprecationWarning: sklearn.externals.joblib is deprecated in 0.21 and will be removed in 0.23. Please import this functionality directly from joblib, which can be installed with: pip install joblib. If this warning is raised when loading pickled models, you may need to re-serialize those models with scikit-learn 0.21+.\n",
      "  warnings.warn(msg, category=DeprecationWarning)\n"
     ]
    }
   ],
   "source": [
    "from sklearn.neighbors import KNeighborsRegressor\n",
    "from sklearn.linear_model import LinearRegression\n",
    "from sklearn.tree import DecisionTreeRegressor\n",
    "from sklearn.svm import SVR\n",
    "from sklearn.ensemble import RandomForestRegressor\n",
    "from sklearn.model_selection import train_test_split, GridSearchCV, RandomizedSearchCV\n",
    "from sklearn.externals import joblib"
   ]
  },
  {
   "cell_type": "code",
   "execution_count": 3,
   "metadata": {},
   "outputs": [],
   "source": [
    "def process_qoutation(source):\n",
    "    df=source.drop(['Закон основание','Ссылка на КС','Участники КС', 'Даты проведения', \\\n",
    "                     'Адрес поставки','Заказчика','ИНН заказчика', 'КПП заказчика', \\\n",
    "                    'Наименование победителя','ИНН победителя','КПП победителя', \\\n",
    "                    'Процент снижения','Ставка победителя'],axis=1)\n",
    "    df['region']=source['КПП заказчика'] // 1e7\n",
    "    df=df.drop(df[(df['Статус']=='Не состоялась') | (df['Статус']=='Снята с публикации')].index)\n",
    "    df=df.drop('Статус',axis=1)\n",
    "    df=df.drop(df[(df['Статус контракта']!=\"Исполнен\") & (df['Статус контракта']!=\"Заключен\")].index)\n",
    "    df=df.drop(df[df.region.isna()].index)\n",
    "    df['percent']=(source['Начальная стоимость']-source['Итоговоя стоимость'])/source['Начальная стоимость']*100\n",
    "    df['day_of_week']=source['Дата начала'].dt.dayofweek\n",
    "    df['week']=source['Дата начала'].dt.week\n",
    "    df=df.drop(['Время начала','Дата окончания','Время окончания'],axis=1) #'Дата начала',\n",
    "    df=df.drop(df[df['Идентификатор СТЕ'].isna()].index)\n",
    "    return df"
   ]
  },
  {
   "cell_type": "code",
   "execution_count": 11,
   "metadata": {},
   "outputs": [],
   "source": [
    "#pr_quot=pd.read_excel(r'data\\КС с оффертами.xlsx',index_col=0)\n",
    "offer_counts=pd.read_excel('data\\offers_count.xlsx',index_col=0)"
   ]
  },
  {
   "cell_type": "code",
   "execution_count": 83,
   "metadata": {},
   "outputs": [
    {
     "name": "stdout",
     "output_type": "stream",
     "text": [
      "Введите регион: 77\n",
      "Введите идентификатор СТЕ: 1359857\n",
      "Введите количество: 850\n",
      "Введите вид (Работа, Товар, Услуга): Услуга\n"
     ]
    }
   ],
   "source": [
    "region=input('Введите регион: ')\n",
    "id_ste=input('Введите идентификатор СТЕ: ')\n",
    "count=input('Введите количество: ')\n",
    "cte_type=input('Введите вид (Работа, Товар, Услуга): ')"
   ]
  },
  {
   "cell_type": "code",
   "execution_count": 84,
   "metadata": {},
   "outputs": [],
   "source": [
    "X=pd.DataFrame({'region':region,'week':37,'Идентификатор СТЕ':id_ste,'Количество товара':count},index=range(1))"
   ]
  },
  {
   "cell_type": "code",
   "execution_count": 85,
   "metadata": {},
   "outputs": [],
   "source": [
    "if cte_type=='Работа':\n",
    "    ntype=4\n",
    "elif cte_type=='Товар':\n",
    "    ntype=2\n",
    "elif cte_type=='Услуга':\n",
    "    ntype=1\n",
    "X['type']=ntype"
   ]
  },
  {
   "cell_type": "code",
   "execution_count": 86,
   "metadata": {},
   "outputs": [],
   "source": [
    "X=X.astype({\"Идентификатор СТЕ\": 'int64'})"
   ]
  },
  {
   "cell_type": "code",
   "execution_count": 87,
   "metadata": {},
   "outputs": [],
   "source": [
    "X=X.merge(offer_counts,on='Идентификатор СТЕ',how='left').fillna(0)\n"
   ]
  },
  {
   "cell_type": "code",
   "execution_count": 88,
   "metadata": {},
   "outputs": [
    {
     "data": {
      "text/html": [
       "<div>\n",
       "<style scoped>\n",
       "    .dataframe tbody tr th:only-of-type {\n",
       "        vertical-align: middle;\n",
       "    }\n",
       "\n",
       "    .dataframe tbody tr th {\n",
       "        vertical-align: top;\n",
       "    }\n",
       "\n",
       "    .dataframe thead th {\n",
       "        text-align: right;\n",
       "    }\n",
       "</style>\n",
       "<table border=\"1\" class=\"dataframe\">\n",
       "  <thead>\n",
       "    <tr style=\"text-align: right;\">\n",
       "      <th></th>\n",
       "      <th>region</th>\n",
       "      <th>week</th>\n",
       "      <th>Идентификатор СТЕ</th>\n",
       "      <th>Количество товара</th>\n",
       "      <th>type</th>\n",
       "      <th>offers_count</th>\n",
       "    </tr>\n",
       "  </thead>\n",
       "  <tbody>\n",
       "    <tr>\n",
       "      <td>0</td>\n",
       "      <td>77</td>\n",
       "      <td>37</td>\n",
       "      <td>1359857</td>\n",
       "      <td>850</td>\n",
       "      <td>1</td>\n",
       "      <td>10</td>\n",
       "    </tr>\n",
       "  </tbody>\n",
       "</table>\n",
       "</div>"
      ],
      "text/plain": [
       "  region  week  Идентификатор СТЕ Количество товара  type  offers_count\n",
       "0     77    37            1359857               850     1            10"
      ]
     },
     "execution_count": 88,
     "metadata": {},
     "output_type": "execute_result"
    }
   ],
   "source": [
    "X.head()"
   ]
  },
  {
   "cell_type": "code",
   "execution_count": 80,
   "metadata": {},
   "outputs": [],
   "source": [
    "best_clf=joblib.load('randforest.model')"
   ]
  },
  {
   "cell_type": "code",
   "execution_count": 89,
   "metadata": {},
   "outputs": [],
   "source": [
    "res=best_clf.predict(X)"
   ]
  },
  {
   "cell_type": "code",
   "execution_count": 90,
   "metadata": {},
   "outputs": [
    {
     "data": {
      "text/plain": [
       "array([63.47749457])"
      ]
     },
     "execution_count": 90,
     "metadata": {},
     "output_type": "execute_result"
    }
   ],
   "source": [
    "res"
   ]
  }
 ],
 "metadata": {
  "kernelspec": {
   "display_name": "Python 3",
   "language": "python",
   "name": "python3"
  },
  "language_info": {
   "codemirror_mode": {
    "name": "ipython",
    "version": 3
   },
   "file_extension": ".py",
   "mimetype": "text/x-python",
   "name": "python",
   "nbconvert_exporter": "python",
   "pygments_lexer": "ipython3",
   "version": "3.7.4"
  }
 },
 "nbformat": 4,
 "nbformat_minor": 2
}
