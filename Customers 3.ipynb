{
 "cells": [
  {
   "cell_type": "code",
   "execution_count": 1,
   "metadata": {},
   "outputs": [],
   "source": [
    "import pandas as pd\n",
    "import numpy as np\n",
    "%matplotlib inline\n",
    "import matplotlib.pyplot as plt\n",
    "import seaborn as sns\n",
    "import datetime as dt\n",
    "pd.set_option('display.max_columns', 50)"
   ]
  },
  {
   "cell_type": "code",
   "execution_count": 2,
   "metadata": {},
   "outputs": [],
   "source": [
    "def process_qoutation(source):\n",
    "    df=source.drop(['Закон основание','Ссылка на КС','Участники КС', 'Даты проведения', \\\n",
    "                     'Адрес поставки','Заказчика','ИНН заказчика', 'КПП заказчика', \\\n",
    "                    'Наименование победителя','ИНН победителя','КПП победителя', \\\n",
    "                    'Процент снижения','Ставка победителя'],axis=1)\n",
    "    df['region']=source['КПП заказчика'] // 1e7\n",
    "    df=df.drop(df[(df['Статус']=='Не состоялась') | (df['Статус']=='Снята с публикации')].index)\n",
    "    df=df.drop('Статус',axis=1)\n",
    "    df=df.drop(df[(df['Статус контракта']!=\"Исполнен\") & (df['Статус контракта']!=\"Заключен\")].index)\n",
    "    df=df.drop(df[df.region.isna()].index)\n",
    "    df['percent']=(source['Начальная стоимость']-source['Итоговоя стоимость'])/source['Начальная стоимость']*100\n",
    "    df['day_of_week']=source['Дата начала'].dt.dayofweek\n",
    "    df['week']=source['Дата начала'].dt.week\n",
    "    df=df.drop(['Время начала','Дата окончания','Время окончания'],axis=1) #'Дата начала',\n",
    "    df=df.drop(df[df['Идентификатор СТЕ'].isna()].index)\n",
    "    return df"
   ]
  },
  {
   "cell_type": "code",
   "execution_count": 13,
   "metadata": {},
   "outputs": [],
   "source": [
    "pr_quot=pd.read_excel(r'C:\\Users\\Andrey\\bsv\\2\\data\\КС сокращенный.xlsx',index_col=0)"
   ]
  },
  {
   "cell_type": "code",
   "execution_count": 4,
   "metadata": {},
   "outputs": [],
   "source": [
    "pr_quot3=pd.read_excel(r'C:\\Users\\Andrey\\bsv\\2\\data\\КС с 01 по 30 января 2020.xlsx')"
   ]
  },
  {
   "cell_type": "code",
   "execution_count": 5,
   "metadata": {},
   "outputs": [],
   "source": [
    "offer_data=pd.read_excel(r'C:\\Users\\Andrey\\bsv\\2\\data\\х Оферты.xlsx')\n",
    "offer2_data=pd.read_excel(r'C:\\Users\\Andrey\\bsv\\2\\data\\1я половина новых оферт.xlsx')\n",
    "offer3_data=pd.read_excel(r'C:\\Users\\Andrey\\bsv\\2\\data\\Оферты_зарегистрированные_с_01_по.xlsx')\n",
    "offers=offer_data.append(offer2_data,ignore_index=True)\n",
    "offers=offer_data.append(offer3_data,ignore_index=True)"
   ]
  },
  {
   "cell_type": "code",
   "execution_count": null,
   "metadata": {},
   "outputs": [],
   "source": []
  },
  {
   "cell_type": "code",
   "execution_count": 6,
   "metadata": {},
   "outputs": [],
   "source": [
    "pr_quot3=process_qoutation(pr_quot3)"
   ]
  },
  {
   "cell_type": "code",
   "execution_count": 16,
   "metadata": {},
   "outputs": [],
   "source": [
    "pr_quot=pr_quot.append(pr_quot3,ignore_index=True,sort=True)"
   ]
  },
  {
   "cell_type": "code",
   "execution_count": 20,
   "metadata": {},
   "outputs": [],
   "source": [
    "offer_counts=offers.pivot_table(index='Идентификатор СТЕ',values='Номер оферты', aggfunc='count').reset_index() \\\n",
    "    .rename(columns={'Номер оферты':'offers_count'})\n",
    "pr_quot=pr_quot.merge(offer_counts,on='Идентификатор СТЕ',how='left')"
   ]
  },
  {
   "cell_type": "code",
   "execution_count": 183,
   "metadata": {},
   "outputs": [],
   "source": [
    "#offer_counts.to_excel('data\\offers_count.xlsx')"
   ]
  },
  {
   "cell_type": "code",
   "execution_count": 166,
   "metadata": {},
   "outputs": [],
   "source": [
    "pr_quot=pr_quot.drop(pr_quot[pr_quot.percent>50].index)\n",
    "pr_quot=pr_quot.drop(pr_quot[pr_quot['Количество участников КС']>13].index)\n",
    "X=pr_quot.drop(['Статус контракта','Реестровый номер контракта','Номер контракта','Наименование товара',\\\n",
    "              'Номер оферты по итогам','Идентификатор','Начальная цена за единицу', \\\n",
    "             'Начальная стоимость','Итоговоя стоимость',\"Количество снижений\", \\\n",
    "                \"Количество участников КС\", 'percent', 'Конечная цена', 'Дата начала','day_of_week'],axis=1)\n",
    "y=pr_quot['Начальная цена за единицу']"
   ]
  },
  {
   "cell_type": "code",
   "execution_count": 168,
   "metadata": {},
   "outputs": [],
   "source": [
    "X=pd.get_dummies(X,'Вид')#.drop('Вид_Работа',axis=1)"
   ]
  },
  {
   "cell_type": "code",
   "execution_count": 169,
   "metadata": {},
   "outputs": [],
   "source": [
    "X['type']=X['Вид_Работа']*4+X['Вид_Товар']*2+X['Вид_Услуга']"
   ]
  },
  {
   "cell_type": "code",
   "execution_count": 170,
   "metadata": {},
   "outputs": [],
   "source": [
    "X=X.drop(['Вид_Работа','Вид_Товар','Вид_Услуга'],axis=1)"
   ]
  },
  {
   "cell_type": "code",
   "execution_count": 171,
   "metadata": {},
   "outputs": [],
   "source": [
    "X=X.fillna(0)"
   ]
  },
  {
   "cell_type": "code",
   "execution_count": 172,
   "metadata": {},
   "outputs": [
    {
     "data": {
      "text/html": [
       "<div>\n",
       "<style scoped>\n",
       "    .dataframe tbody tr th:only-of-type {\n",
       "        vertical-align: middle;\n",
       "    }\n",
       "\n",
       "    .dataframe tbody tr th {\n",
       "        vertical-align: top;\n",
       "    }\n",
       "\n",
       "    .dataframe thead th {\n",
       "        text-align: right;\n",
       "    }\n",
       "</style>\n",
       "<table border=\"1\" class=\"dataframe\">\n",
       "  <thead>\n",
       "    <tr style=\"text-align: right;\">\n",
       "      <th></th>\n",
       "      <th>region</th>\n",
       "      <th>week</th>\n",
       "      <th>Идентификатор СТЕ</th>\n",
       "      <th>Количество товара</th>\n",
       "      <th>offers_count</th>\n",
       "      <th>type</th>\n",
       "    </tr>\n",
       "  </thead>\n",
       "  <tbody>\n",
       "    <tr>\n",
       "      <td>0</td>\n",
       "      <td>77.0</td>\n",
       "      <td>42</td>\n",
       "      <td>1203443.0</td>\n",
       "      <td>1.0</td>\n",
       "      <td>1.0</td>\n",
       "      <td>2</td>\n",
       "    </tr>\n",
       "    <tr>\n",
       "      <td>1</td>\n",
       "      <td>77.0</td>\n",
       "      <td>42</td>\n",
       "      <td>1209487.0</td>\n",
       "      <td>300.0</td>\n",
       "      <td>1.0</td>\n",
       "      <td>2</td>\n",
       "    </tr>\n",
       "    <tr>\n",
       "      <td>2</td>\n",
       "      <td>77.0</td>\n",
       "      <td>42</td>\n",
       "      <td>1209486.0</td>\n",
       "      <td>300.0</td>\n",
       "      <td>4.0</td>\n",
       "      <td>2</td>\n",
       "    </tr>\n",
       "    <tr>\n",
       "      <td>3</td>\n",
       "      <td>77.0</td>\n",
       "      <td>43</td>\n",
       "      <td>1207700.0</td>\n",
       "      <td>15.0</td>\n",
       "      <td>1.0</td>\n",
       "      <td>2</td>\n",
       "    </tr>\n",
       "    <tr>\n",
       "      <td>4</td>\n",
       "      <td>77.0</td>\n",
       "      <td>43</td>\n",
       "      <td>1207497.0</td>\n",
       "      <td>20.0</td>\n",
       "      <td>2.0</td>\n",
       "      <td>2</td>\n",
       "    </tr>\n",
       "  </tbody>\n",
       "</table>\n",
       "</div>"
      ],
      "text/plain": [
       "   region  week  Идентификатор СТЕ  Количество товара  offers_count  type\n",
       "0    77.0    42          1203443.0                1.0           1.0     2\n",
       "1    77.0    42          1209487.0              300.0           1.0     2\n",
       "2    77.0    42          1209486.0              300.0           4.0     2\n",
       "3    77.0    43          1207700.0               15.0           1.0     2\n",
       "4    77.0    43          1207497.0               20.0           2.0     2"
      ]
     },
     "execution_count": 172,
     "metadata": {},
     "output_type": "execute_result"
    }
   ],
   "source": [
    "X.head()"
   ]
  },
  {
   "cell_type": "code",
   "execution_count": null,
   "metadata": {},
   "outputs": [],
   "source": []
  },
  {
   "cell_type": "code",
   "execution_count": null,
   "metadata": {},
   "outputs": [],
   "source": []
  },
  {
   "cell_type": "code",
   "execution_count": 110,
   "metadata": {},
   "outputs": [],
   "source": [
    "from sklearn.neighbors import KNeighborsRegressor\n",
    "from sklearn.linear_model import LinearRegression\n",
    "from sklearn.tree import DecisionTreeRegressor\n",
    "from sklearn.svm import SVR\n",
    "from sklearn.ensemble import RandomForestRegressor\n",
    "from sklearn.model_selection import train_test_split, GridSearchCV, RandomizedSearchCV\n",
    "from sklearn.externals import joblib"
   ]
  },
  {
   "cell_type": "code",
   "execution_count": 156,
   "metadata": {},
   "outputs": [],
   "source": [
    "from sklearn.metrics import r2_score\n",
    "from sklearn.preprocessing import normalize"
   ]
  },
  {
   "cell_type": "code",
   "execution_count": null,
   "metadata": {},
   "outputs": [],
   "source": []
  },
  {
   "cell_type": "code",
   "execution_count": 180,
   "metadata": {},
   "outputs": [
    {
     "data": {
      "text/plain": [
       "RandomForestRegressor(bootstrap=True, criterion='mse', max_depth=None,\n",
       "                      max_features='auto', max_leaf_nodes=None,\n",
       "                      min_impurity_decrease=0.0, min_impurity_split=None,\n",
       "                      min_samples_leaf=1, min_samples_split=2,\n",
       "                      min_weight_fraction_leaf=0.0, n_estimators=100,\n",
       "                      n_jobs=None, oob_score=False, random_state=None,\n",
       "                      verbose=0, warm_start=False)"
      ]
     },
     "execution_count": 180,
     "metadata": {},
     "output_type": "execute_result"
    }
   ],
   "source": [
    "X_learn, X_test, y_learn, y_test=train_test_split(X,y,test_size=0.3)\n",
    "clf=RandomForestRegressor(n_estimators=100)\n",
    "#clf=KNeighborsRegressor()\n",
    "clf"
   ]
  },
  {
   "cell_type": "code",
   "execution_count": 181,
   "metadata": {},
   "outputs": [
    {
     "data": {
      "text/plain": [
       "RandomizedSearchCV(cv=5, error_score='raise-deprecating',\n",
       "                   estimator=RandomForestRegressor(bootstrap=True,\n",
       "                                                   criterion='mse',\n",
       "                                                   max_depth=None,\n",
       "                                                   max_features='auto',\n",
       "                                                   max_leaf_nodes=None,\n",
       "                                                   min_impurity_decrease=0.0,\n",
       "                                                   min_impurity_split=None,\n",
       "                                                   min_samples_leaf=1,\n",
       "                                                   min_samples_split=2,\n",
       "                                                   min_weight_fraction_leaf=0.0,\n",
       "                                                   n_estimators=100,\n",
       "                                                   n_jobs=None, oob_score=False,\n",
       "                                                   random_state=None, verbose=0,\n",
       "                                                   warm_start=False),\n",
       "                   iid='warn', n_iter=10, n_jobs=None,\n",
       "                   param_distributions={'max_depth': range(1, 50),\n",
       "                                        'min_samples_leaf': range(1, 10),\n",
       "                                        'min_samples_split': range(2, 10)},\n",
       "                   pre_dispatch='2*n_jobs', random_state=None, refit=True,\n",
       "                   return_train_score=False, scoring=None, verbose=0)"
      ]
     },
     "execution_count": 181,
     "metadata": {},
     "output_type": "execute_result"
    }
   ],
   "source": [
    "param_grid={'max_depth':range(1,50),'min_samples_split':range(2,10),'min_samples_leaf':range(1,10)}\n",
    "#param_grid={'n_neighbors':range(1,50),'leaf_size':range(10,50,10)}\n",
    "srch=RandomizedSearchCV(clf,param_grid,cv=5)\n",
    "srch.fit(X_learn,y_learn)"
   ]
  },
  {
   "cell_type": "code",
   "execution_count": 184,
   "metadata": {},
   "outputs": [
    {
     "name": "stdout",
     "output_type": "stream",
     "text": [
      "{'min_samples_split': 7, 'min_samples_leaf': 2, 'max_depth': 41}\n"
     ]
    }
   ],
   "source": [
    "best_clf=srch.best_estimator_\n",
    "print(srch.best_params_)\n"
   ]
  },
  {
   "cell_type": "code",
   "execution_count": 185,
   "metadata": {},
   "outputs": [],
   "source": [
    "prediction=best_clf.predict(X_test)"
   ]
  },
  {
   "cell_type": "code",
   "execution_count": 186,
   "metadata": {},
   "outputs": [
    {
     "data": {
      "text/plain": [
       "0.4544332552833784"
      ]
     },
     "execution_count": 186,
     "metadata": {},
     "output_type": "execute_result"
    }
   ],
   "source": [
    "result=pd.DataFrame(X_test)\n",
    "result['real']=y_test\n",
    "result['predicted']=prediction\n",
    "result['accuracy']=pd.Series(np.abs(y_test-prediction))\n",
    "result['acc_perc']=result['accuracy']/result['real']*100\n",
    "r2_score(y_test,prediction)"
   ]
  },
  {
   "cell_type": "code",
   "execution_count": 187,
   "metadata": {},
   "outputs": [
    {
     "data": {
      "text/plain": [
       "count     75862.000000\n",
       "mean       9748.613764\n",
       "std       33830.369919\n",
       "min           0.000000\n",
       "25%         102.930299\n",
       "50%         708.829309\n",
       "75%        4308.444983\n",
       "max      951114.366316\n",
       "Name: accuracy, dtype: float64"
      ]
     },
     "execution_count": 187,
     "metadata": {},
     "output_type": "execute_result"
    }
   ],
   "source": [
    "result.accuracy.describe()"
   ]
  },
  {
   "cell_type": "code",
   "execution_count": 188,
   "metadata": {},
   "outputs": [
    {
     "data": {
      "text/plain": [
       "['randforest.model']"
      ]
     },
     "execution_count": 188,
     "metadata": {},
     "output_type": "execute_result"
    }
   ],
   "source": [
    "joblib.dump(best_clf, 'randforest.model')"
   ]
  },
  {
   "cell_type": "code",
   "execution_count": 190,
   "metadata": {},
   "outputs": [
    {
     "data": {
      "text/html": [
       "<div>\n",
       "<style scoped>\n",
       "    .dataframe tbody tr th:only-of-type {\n",
       "        vertical-align: middle;\n",
       "    }\n",
       "\n",
       "    .dataframe tbody tr th {\n",
       "        vertical-align: top;\n",
       "    }\n",
       "\n",
       "    .dataframe thead th {\n",
       "        text-align: right;\n",
       "    }\n",
       "</style>\n",
       "<table border=\"1\" class=\"dataframe\">\n",
       "  <thead>\n",
       "    <tr style=\"text-align: right;\">\n",
       "      <th></th>\n",
       "      <th>region</th>\n",
       "      <th>week</th>\n",
       "      <th>Идентификатор СТЕ</th>\n",
       "      <th>Количество товара</th>\n",
       "      <th>offers_count</th>\n",
       "      <th>type</th>\n",
       "      <th>real</th>\n",
       "      <th>predicted</th>\n",
       "      <th>accuracy</th>\n",
       "      <th>acc_perc</th>\n",
       "    </tr>\n",
       "  </thead>\n",
       "  <tbody>\n",
       "    <tr>\n",
       "      <td>130481</td>\n",
       "      <td>77.0</td>\n",
       "      <td>50</td>\n",
       "      <td>20961170.0</td>\n",
       "      <td>1.0</td>\n",
       "      <td>1.0</td>\n",
       "      <td>2</td>\n",
       "      <td>48000.00</td>\n",
       "      <td>50064.551330</td>\n",
       "      <td>2064.551330</td>\n",
       "      <td>4.301149</td>\n",
       "    </tr>\n",
       "    <tr>\n",
       "      <td>206006</td>\n",
       "      <td>77.0</td>\n",
       "      <td>37</td>\n",
       "      <td>18648310.0</td>\n",
       "      <td>20.0</td>\n",
       "      <td>0.0</td>\n",
       "      <td>2</td>\n",
       "      <td>819.00</td>\n",
       "      <td>821.305845</td>\n",
       "      <td>2.305845</td>\n",
       "      <td>0.281544</td>\n",
       "    </tr>\n",
       "    <tr>\n",
       "      <td>252963</td>\n",
       "      <td>77.0</td>\n",
       "      <td>3</td>\n",
       "      <td>1359857.0</td>\n",
       "      <td>850.0</td>\n",
       "      <td>10.0</td>\n",
       "      <td>1</td>\n",
       "      <td>21.00</td>\n",
       "      <td>21.574969</td>\n",
       "      <td>0.574969</td>\n",
       "      <td>2.737946</td>\n",
       "    </tr>\n",
       "    <tr>\n",
       "      <td>155733</td>\n",
       "      <td>50.0</td>\n",
       "      <td>52</td>\n",
       "      <td>1458488.0</td>\n",
       "      <td>534.0</td>\n",
       "      <td>3.0</td>\n",
       "      <td>2</td>\n",
       "      <td>26.00</td>\n",
       "      <td>26.615040</td>\n",
       "      <td>0.615040</td>\n",
       "      <td>2.365539</td>\n",
       "    </tr>\n",
       "    <tr>\n",
       "      <td>90111</td>\n",
       "      <td>77.0</td>\n",
       "      <td>43</td>\n",
       "      <td>1391697.0</td>\n",
       "      <td>1500.0</td>\n",
       "      <td>1.0</td>\n",
       "      <td>2</td>\n",
       "      <td>24.76</td>\n",
       "      <td>25.976782</td>\n",
       "      <td>1.216782</td>\n",
       "      <td>4.914307</td>\n",
       "    </tr>\n",
       "  </tbody>\n",
       "</table>\n",
       "</div>"
      ],
      "text/plain": [
       "        region  week  Идентификатор СТЕ  Количество товара  offers_count  \\\n",
       "130481    77.0    50         20961170.0                1.0           1.0   \n",
       "206006    77.0    37         18648310.0               20.0           0.0   \n",
       "252963    77.0     3          1359857.0              850.0          10.0   \n",
       "155733    50.0    52          1458488.0              534.0           3.0   \n",
       "90111     77.0    43          1391697.0             1500.0           1.0   \n",
       "\n",
       "        type      real     predicted     accuracy  acc_perc  \n",
       "130481     2  48000.00  50064.551330  2064.551330  4.301149  \n",
       "206006     2    819.00    821.305845     2.305845  0.281544  \n",
       "252963     1     21.00     21.574969     0.574969  2.737946  \n",
       "155733     2     26.00     26.615040     0.615040  2.365539  \n",
       "90111      2     24.76     25.976782     1.216782  4.914307  "
      ]
     },
     "execution_count": 190,
     "metadata": {},
     "output_type": "execute_result"
    }
   ],
   "source": [
    "result[result.acc_perc<5].head()"
   ]
  }
 ],
 "metadata": {
  "kernelspec": {
   "display_name": "Python 3",
   "language": "python",
   "name": "python3"
  },
  "language_info": {
   "codemirror_mode": {
    "name": "ipython",
    "version": 3
   },
   "file_extension": ".py",
   "mimetype": "text/x-python",
   "name": "python",
   "nbconvert_exporter": "python",
   "pygments_lexer": "ipython3",
   "version": "3.7.4"
  }
 },
 "nbformat": 4,
 "nbformat_minor": 2
}
